{
 "cells": [
  {
   "cell_type": "markdown",
   "metadata": {},
   "source": [
    "# Analysis of time measurements for a free falling object\n",
    "\n",
    "Measurements obtained with __[phyphox](http://phyphox.org)__ with an Android Smartphone<br>\n",
    "<br>Object falling from a table $L=81 cm$.<br>\n",
    "Data fitted with a gaussian.<br>\n",
    "$g$ obtained from $g=2Lt^{2}$"
   ]
  },
  {
   "cell_type": "code",
   "execution_count": 1,
   "metadata": {
    "scrolled": false
   },
   "outputs": [
    {
     "name": "stdout",
     "output_type": "stream",
     "text": [
      "Welcome to JupyROOT 6.12/04\n"
     ]
    },
    {
     "data": {
      "text/html": [
       "\n",
       "<div id=\"root_plot_1\"\n",
       "     style=\"width: 596px; height: 372px\">\n",
       "</div>\n",
       "\n",
       "<script>\n",
       " requirejs.config({\n",
       "     paths: {\n",
       "       'JSRootCore' : 'https://root.cern.ch/js/notebook//scripts/JSRootCore',\n",
       "     }\n",
       "   });\n",
       " require(['JSRootCore'],\n",
       "     function(Core) {\n",
       "       var obj = Core.JSONR_unref({\"_typename\":\"TCanvas\",\"fUniqueID\":0,\"fBits\":53673992,\"fLineColor\":1,\"fLineStyle\":1,\"fLineWidth\":1,\"fFillColor\":0,\"fFillStyle\":1001,\"fLeftMargin\":0.1,\"fRightMargin\":0.1,\"fBottomMargin\":0.1,\"fTopMargin\":0.1,\"fXfile\":2,\"fYfile\":2,\"fAfile\":1,\"fXstat\":0.99,\"fYstat\":0.99,\"fAstat\":2,\"fFrameFillColor\":0,\"fFrameLineColor\":1,\"fFrameFillStyle\":1001,\"fFrameLineStyle\":1,\"fFrameLineWidth\":1,\"fFrameBorderSize\":1,\"fFrameBorderMode\":0,\"fX1\":274.999998137355,\"fY1\":-0.750000055879358,\"fX2\":525.000001862645,\"fY2\":6.75000005587936,\"fXtoAbsPixelk\":-655.599935790252,\"fXtoPixelk\":-655.599935790252,\"fXtoPixel\":2.38399996447563,\"fYtoAbsPixelk\":334.800047782707,\"fYtoPixelk\":334.800047782707,\"fYtoPixel\":-49.5999992609024,\"fUtoAbsPixelk\":5e-5,\"fUtoPixelk\":5e-5,\"fUtoPixel\":596,\"fVtoAbsPixelk\":372.00005,\"fVtoPixelk\":372,\"fVtoPixel\":-372,\"fAbsPixeltoXk\":274.999998137355,\"fPixeltoXk\":274.999998137355,\"fPixeltoX\":0.41946309349881,\"fAbsPixeltoYk\":6.75000005587936,\"fPixeltoYk\":-0.750000055879358,\"fPixeltoY\":-0.0201612906230073,\"fXlowNDC\":0,\"fYlowNDC\":0,\"fXUpNDC\":0,\"fYUpNDC\":0,\"fWNDC\":1,\"fHNDC\":1,\"fAbsXlowNDC\":0,\"fAbsYlowNDC\":0,\"fAbsWNDC\":1,\"fAbsHNDC\":1,\"fUxmin\":300,\"fUymin\":0,\"fUxmax\":500,\"fUymax\":6,\"fTheta\":30,\"fPhi\":30,\"fAspectRatio\":0,\"fNumber\":0,\"fTickx\":0,\"fTicky\":0,\"fLogx\":0,\"fLogy\":0,\"fLogz\":0,\"fPadPaint\":0,\"fCrosshair\":0,\"fCrosshairPos\":0,\"fBorderSize\":2,\"fBorderMode\":0,\"fModified\":false,\"fGridx\":false,\"fGridy\":false,\"fAbsCoord\":false,\"fEditable\":true,\"fFixedAspectRatio\":false,\"fPrimitives\":{\"_typename\":\"TList\",\"name\":\"TList\",\"arr\":[{\"_typename\":\"TFrame\",\"fUniqueID\":0,\"fBits\":50331656,\"fLineColor\":1,\"fLineStyle\":1,\"fLineWidth\":1,\"fFillColor\":0,\"fFillStyle\":1001,\"fX1\":300,\"fY1\":0,\"fX2\":500,\"fY2\":6,\"fBorderSize\":1,\"fBorderMode\":0},{\"_typename\":\"TH1F\",\"fUniqueID\":0,\"fBits\":50331656,\"fName\":\"dataHist\",\"fTitle\":\"Free Fall Time\",\"fLineColor\":602,\"fLineStyle\":1,\"fLineWidth\":1,\"fFillColor\":0,\"fFillStyle\":1001,\"fMarkerColor\":1,\"fMarkerStyle\":20,\"fMarkerSize\":1.2,\"fNcells\":27,\"fXaxis\":{\"_typename\":\"TAxis\",\"fUniqueID\":0,\"fBits\":50331656,\"fName\":\"xaxis\",\"fTitle\":\"t [ms]\",\"fNdivisions\":510,\"fAxisColor\":1,\"fLabelColor\":1,\"fLabelFont\":42,\"fLabelOffset\":0.005,\"fLabelSize\":0.035,\"fTickLength\":0.03,\"fTitleOffset\":1.3,\"fTitleSize\":0.035,\"fTitleColor\":1,\"fTitleFont\":42,\"fNbins\":25,\"fXmin\":300,\"fXmax\":500,\"fXbins\":[],\"fFirst\":0,\"fLast\":0,\"fBits2\":0,\"fTimeDisplay\":false,\"fTimeFormat\":\"\",\"fLabels\":null,\"fModLabs\":null},\"fYaxis\":{\"_typename\":\"TAxis\",\"fUniqueID\":0,\"fBits\":50331656,\"fName\":\"yaxis\",\"fTitle\":\"Events\",\"fNdivisions\":510,\"fAxisColor\":1,\"fLabelColor\":1,\"fLabelFont\":42,\"fLabelOffset\":0.005,\"fLabelSize\":0.035,\"fTickLength\":0.03,\"fTitleOffset\":0,\"fTitleSize\":0.035,\"fTitleColor\":1,\"fTitleFont\":42,\"fNbins\":1,\"fXmin\":0,\"fXmax\":1,\"fXbins\":[],\"fFirst\":0,\"fLast\":0,\"fBits2\":0,\"fTimeDisplay\":false,\"fTimeFormat\":\"\",\"fLabels\":null,\"fModLabs\":null},\"fZaxis\":{\"_typename\":\"TAxis\",\"fUniqueID\":0,\"fBits\":50331648,\"fName\":\"zaxis\",\"fTitle\":\"\",\"fNdivisions\":510,\"fAxisColor\":1,\"fLabelColor\":1,\"fLabelFont\":42,\"fLabelOffset\":0.005,\"fLabelSize\":0.035,\"fTickLength\":0.03,\"fTitleOffset\":1,\"fTitleSize\":0.035,\"fTitleColor\":1,\"fTitleFont\":42,\"fNbins\":1,\"fXmin\":0,\"fXmax\":1,\"fXbins\":[],\"fFirst\":0,\"fLast\":0,\"fBits2\":0,\"fTimeDisplay\":false,\"fTimeFormat\":\"\",\"fLabels\":null,\"fModLabs\":null},\"fBarOffset\":0,\"fBarWidth\":1000,\"fEntries\":13,\"fTsumw\":13,\"fTsumw2\":13,\"fTsumwx\":5248,\"fTsumwx2\":2121138,\"fMaximum\":6,\"fMinimum\":0,\"fNormFactor\":0,\"fContour\":[],\"fSumw2\":[],\"fOption\":\"\",\"fFunctions\":{\"_typename\":\"TList\",\"name\":\"TList\",\"arr\":[{\"_typename\":\"TF1\",\"fUniqueID\":0,\"fBits\":50332680,\"fName\":\"gaus\",\"fTitle\":\"gaus\",\"fLineColor\":2,\"fLineStyle\":1,\"fLineWidth\":2,\"fFillColor\":19,\"fFillStyle\":0,\"fMarkerColor\":1,\"fMarkerStyle\":1,\"fMarkerSize\":1,\"fXmin\":300,\"fXmax\":500,\"fNpar\":3,\"fNdim\":1,\"fNpx\":100,\"fType\":0,\"fNpfits\":25,\"fNDF\":22,\"fChisquare\":3.06768336561606,\"fMinimum\":-1111,\"fMaximum\":-1111,\"fParErrors\":[0.944491613763794,4.13868923188358,2.9244782155657],\"fParMin\":[0,0,0],\"fParMax\":[0,0,149.222838805936],\"fSave\":[9.09644650921663e-11,2.28794844039444e-10,5.65222245785831e-10,1.37148420114304e-9,3.26859356742578e-9,7.65120052163231e-9,1.75912538687231e-8,3.97248767192771e-8,8.81103385208091e-8,1.91950713729063e-7,4.10725004035308e-7,8.63199347906761e-7,1.78184373504696e-6,3.61265654357344e-6,7.19419632718615e-6,1.40713720346705e-5,2.70326832383085e-5,5.10082489755621e-5,9.45344767490727e-5,1.72083243802455e-4,3.0767024194583e-4,5.40295004206282e-4,9.31912121100142e-4,0.00157876510559955,0.00262699125512063,0.00429336968085406,0.00689186073146468,0.0108660888109447,0.0168270721779756,0.0255942504082903,0.0382362085353981,0.0561055440665824,0.0808602881404376,0.114462529935682,0.159143881686475,0.217327709338675,0.291500167095586,0.384026384324483,0.496914727442428,0.631540524307856,0.788350101699712,0.966575054058914,1.1639935844517,1.37677870691076,1.59947053632017,1.82510097856383,2.0454840684762,2.25166540037847,2.43450212124144,2.5853241912806,2.69661168710308,2.76261499431876,2.77984682859479,2.74738750305012,2.66696625137633,2.5428085988025,2.38126852991779,2.19029001549639,1.97876137350531,1.75583529425398,1.53028624579621,1.30996630500307,1.10140266928243,0.909558578498531,0.737757738546137,0.587753769054348,0.459912932331615,0.353471473579436,0.266828164610332,0.197836999732916,0.144072773003688,0.103051629409258,0.0723979652781528,0.0499570066326764,0.0338582888122636,0.0225388707019235,0.0147366187780072,0.00946372463964219,0.00596932042263668,0.00369816460571532,0.00225032960428363,0.00134494516877636,7.89517161589786e-4,4.55215582312739e-4,2.57793055942827e-4,1.43391649122798e-4,7.83384643719346e-5,4.20363305428361e-5,2.21550682600233e-5,1.14688516800954e-5,5.83129926171988e-6,2.91212004254634e-6,1.42840633153017e-6,6.88165362674202e-7,3.25635993205081e-7,1.51345859770683e-7,6.90887344060167e-8,3.0977222793395e-8,1.36419442746215e-8,5.90076899151814e-9,2.5069143959004e-9,300,500],\"fNormalized\":false,\"fNormIntegral\":0,\"fFormula\":{\"_typename\":\"TFormula\",\"fUniqueID\":0,\"fBits\":50332672,\"fName\":\"gaus\",\"fTitle\":\"gaus\",\"fClingParameters\":[2.78043784745781,403.692307695584,14.9222558001417],\"fAllParametersSetted\":true,\"fParams\":[{\"$pair\":\"pair<TString,int,TFormulaParamOrder>\",\"first\":\"Constant\",\"second\":0},{\"$pair\":\"pair<TString,int,TFormulaParamOrder>\",\"first\":\"Mean\",\"second\":1},{\"$pair\":\"pair<TString,int,TFormulaParamOrder>\",\"first\":\"Sigma\",\"second\":2}],\"fFormula\":\"[Constant]*exp(-0.5*((x-[Mean])\\/[Sigma])*((x-[Mean])\\/[Sigma]))\",\"fLinearParts\":[],\"fVectorized\":false},\"fParams\":null,\"fComposition_ptr\":null},{\"_typename\":\"TPaveStats\",\"fUniqueID\":0,\"fBits\":50331657,\"fLineColor\":1,\"fLineStyle\":1,\"fLineWidth\":1,\"fFillColor\":0,\"fFillStyle\":1001,\"fX1\":470.000005066395,\"fY1\":5.06250007543713,\"fX2\":520.000006556511,\"fY2\":6.26250006649644,\"fX1NDC\":0.780000016093254,\"fY1NDC\":0.775000005960464,\"fX2NDC\":0.980000019073486,\"fY2NDC\":0.935000002384186,\"fBorderSize\":1,\"fInit\":1,\"fShadowColor\":1,\"fCornerRadius\":0,\"fOption\":\"brNDC\",\"fName\":\"stats\",\"fTextAngle\":0,\"fTextSize\":0,\"fTextAlign\":12,\"fTextColor\":1,\"fTextFont\":42,\"fLabel\":\"\",\"fLongest\":18,\"fMargin\":0.05,\"fLines\":{\"_typename\":\"TList\",\"name\":\"TList\",\"arr\":[{\"_typename\":\"TLatex\",\"fUniqueID\":0,\"fBits\":50331648,\"fName\":\"\",\"fTitle\":\"dataHist\",\"fTextAngle\":0,\"fTextSize\":0.0368,\"fTextAlign\":0,\"fTextColor\":0,\"fTextFont\":0,\"fX\":0,\"fY\":0,\"fLineColor\":1,\"fLineStyle\":1,\"fLineWidth\":2,\"fLimitFactorSize\":3,\"fOriginSize\":0.0368000008165836},{\"_typename\":\"TLatex\",\"fUniqueID\":0,\"fBits\":50331648,\"fName\":\"\",\"fTitle\":\"Entries = 13     \",\"fTextAngle\":0,\"fTextSize\":0,\"fTextAlign\":0,\"fTextColor\":0,\"fTextFont\":0,\"fX\":0,\"fY\":0,\"fLineColor\":1,\"fLineStyle\":1,\"fLineWidth\":2,\"fLimitFactorSize\":3,\"fOriginSize\":0.04},{\"_typename\":\"TLatex\",\"fUniqueID\":0,\"fBits\":50331648,\"fName\":\"\",\"fTitle\":\"Mean  =  403.7\",\"fTextAngle\":0,\"fTextSize\":0,\"fTextAlign\":0,\"fTextColor\":0,\"fTextFont\":0,\"fX\":0,\"fY\":0,\"fLineColor\":1,\"fLineStyle\":1,\"fLineWidth\":2,\"fLimitFactorSize\":3,\"fOriginSize\":0.04},{\"_typename\":\"TLatex\",\"fUniqueID\":0,\"fBits\":50331648,\"fName\":\"\",\"fTitle\":\"Std Dev   =  14.04\",\"fTextAngle\":0,\"fTextSize\":0,\"fTextAlign\":0,\"fTextColor\":0,\"fTextFont\":0,\"fX\":0,\"fY\":0,\"fLineColor\":1,\"fLineStyle\":1,\"fLineWidth\":2,\"fLimitFactorSize\":3,\"fOriginSize\":0.04}],\"opt\":[\"\",\"\",\"\",\"\"]},\"fOptFit\":0,\"fOptStat\":1111,\"fFitFormat\":\"5.4g\",\"fStatFormat\":\"6.4g\",\"fParent\":{\"$ref\":3}}],\"opt\":[\"\",\"brNDC\"]},\"fBufferSize\":0,\"fBuffer\":[],\"fBinStatErrOpt\":0,\"fArray\":[0,0,0,0,0,0,0,0,0,0,0,3,1,3,2,2,1,1,0,0,0,0,0,0,0,0,0]},{\"_typename\":\"TLatex\",\"fUniqueID\":0,\"fBits\":50331657,\"fName\":\"\",\"fTitle\":\"#mu=403.7#pm 4.1 ms\",\"fTextAngle\":0,\"fTextSize\":0.05,\"fTextAlign\":11,\"fTextColor\":1,\"fTextFont\":62,\"fX\":310,\"fY\":4.5,\"fLineColor\":1,\"fLineStyle\":1,\"fLineWidth\":2,\"fLimitFactorSize\":3,\"fOriginSize\":0.04},{\"_typename\":\"TLatex\",\"fUniqueID\":0,\"fBits\":50331657,\"fName\":\"\",\"fTitle\":\"#sigma=14.9#pm 2.9 ms\",\"fTextAngle\":0,\"fTextSize\":0.05,\"fTextAlign\":11,\"fTextColor\":1,\"fTextFont\":62,\"fX\":310,\"fY\":4.2,\"fLineColor\":1,\"fLineStyle\":1,\"fLineWidth\":2,\"fLimitFactorSize\":3,\"fOriginSize\":0.04},{\"_typename\":\"TLatex\",\"fUniqueID\":0,\"fBits\":50331657,\"fName\":\"\",\"fTitle\":\"g= 9.9#pm 0.2 m\\/s^{2}\",\"fTextAngle\":0,\"fTextSize\":0.05,\"fTextAlign\":11,\"fTextColor\":1,\"fTextFont\":62,\"fX\":370,\"fY\":5.5,\"fLineColor\":1,\"fLineStyle\":1,\"fLineWidth\":2,\"fLimitFactorSize\":3,\"fOriginSize\":0.04},{\"_typename\":\"TPaveText\",\"fUniqueID\":0,\"fBits\":50331657,\"fLineColor\":1,\"fLineStyle\":1,\"fLineWidth\":1,\"fFillColor\":0,\"fFillStyle\":0,\"fX1\":370.654361978823,\"fY1\":6.30000007878989,\"fX2\":429.345638021177,\"fY2\":6.71250009108335,\"fX1NDC\":0.38261744966443,\"fY1NDC\":0.940000003948808,\"fX2NDC\":0.61738255033557,\"fY2NDC\":0.995000004768372,\"fBorderSize\":0,\"fInit\":1,\"fShadowColor\":1,\"fCornerRadius\":0,\"fOption\":\"blNDC\",\"fName\":\"title\",\"fTextAngle\":0,\"fTextSize\":0,\"fTextAlign\":22,\"fTextColor\":1,\"fTextFont\":42,\"fLabel\":\"\",\"fLongest\":14,\"fMargin\":0.05,\"fLines\":{\"_typename\":\"TList\",\"name\":\"TList\",\"arr\":[{\"_typename\":\"TLatex\",\"fUniqueID\":0,\"fBits\":50331648,\"fName\":\"\",\"fTitle\":\"Free Fall Time\",\"fTextAngle\":0,\"fTextSize\":0,\"fTextAlign\":0,\"fTextColor\":0,\"fTextFont\":0,\"fX\":0,\"fY\":0,\"fLineColor\":1,\"fLineStyle\":1,\"fLineWidth\":2,\"fLimitFactorSize\":3,\"fOriginSize\":0.0467500016093254}],\"opt\":[\"\"]}}],\"opt\":[\"\",\"PE\",\"\",\"\",\"\",\"blNDC\"]},\"fExecs\":null,\"fName\":\"c\",\"fTitle\":\"c\",\"fNumPaletteColor\":0,\"fNextPaletteColor\":0,\"fDISPLAY\":\"$DISPLAY\",\"fDoubleBuffer\":0,\"fRetained\":true,\"fXsizeUser\":0,\"fYsizeUser\":0,\"fXsizeReal\":20,\"fYsizeReal\":13.33333,\"fWindowTopX\":0,\"fWindowTopY\":0,\"fWindowWidth\":0,\"fWindowHeight\":0,\"fCw\":596,\"fCh\":372,\"fCatt\":{\"_typename\":\"TAttCanvas\",\"fXBetween\":2,\"fYBetween\":2,\"fTitleFromTop\":1.2,\"fXdate\":0.2,\"fYdate\":0.3,\"fAdate\":1},\"kMoveOpaque\":true,\"kResizeOpaque\":true,\"fHighLightColor\":2,\"fBatch\":true,\"kShowEventStatus\":false,\"kAutoExec\":true,\"kMenuBar\":true});\n",
       "       Core.draw(\"root_plot_1\", obj, \"\");\n",
       "     }\n",
       " );\n",
       "</script>\n"
      ],
      "text/plain": [
       "<IPython.core.display.HTML object>"
      ]
     },
     "metadata": {},
     "output_type": "display_data"
    }
   ],
   "source": [
    "import ROOT as r\n",
    "import math\n",
    "\n",
    "%jsroot on\n",
    "\n",
    "inputFile='freefall.txt'\n",
    "\n",
    "data=r.TTree(\"freefall\",\"freefall\")\n",
    "data.ReadFile(inputFile,\"data/F\")\n",
    "\n",
    "dataHist=r.TH1F(\"dataHist\",\"dataHist\",25,300,500)\n",
    "data.Draw(\"data>>dataHist\")\n",
    "\n",
    "c=r.TCanvas(\"c\",\"c\",600,400)\n",
    "dataHist.SetMarkerStyle(20)\n",
    "dataHist.SetMarkerSize(1.2)\n",
    "dataHist.SetTitle('Free Fall Time')\n",
    "dataHist.GetXaxis().SetTitle(\"t [ms]\")\n",
    "dataHist.GetXaxis().SetTitleOffset(1.3)\n",
    "dataHist.GetYaxis().SetTitle(\"Events\")\n",
    "dataHist.GetYaxis().SetRangeUser(0,6)\n",
    "dataHist.Draw('PE')\n",
    "dataHist.Fit('gaus','L')\n",
    "\n",
    "t=r.TLatex()\n",
    "mu=dataHist.GetFunction('gaus').GetParameter(1)\n",
    "mu_err=dataHist.GetFunction('gaus').GetParError(1)\n",
    "\n",
    "sigma=dataHist.GetFunction('gaus').GetParameter(2)\n",
    "sigma_err=dataHist.GetFunction('gaus').GetParError(2)\n",
    "\n",
    "g=2*0.81/(mu*mu/(1000000))\n",
    "g_err=math.sqrt((2*mu_err/mu)**2+(1./81.)**2)*g\n",
    "\n",
    "t.DrawLatex(310,4.5,\"#mu=%4.1f#pm%4.1f ms\"%(mu,mu_err))\n",
    "t.DrawLatex(310,4.2,\"#sigma=%4.1f#pm%4.1f ms\"%(sigma,sigma_err))\n",
    "t.DrawLatex(370,5.5,\"g=%4.1f#pm%4.1f m/s^{2}\"%(g,g_err))\n",
    "\n",
    "c.Draw()\n",
    "\n"
   ]
  }
 ],
 "metadata": {
  "kernelspec": {
   "display_name": "Python 2",
   "language": "python",
   "name": "python2"
  },
  "language_info": {
   "codemirror_mode": {
    "name": "ipython",
    "version": 2
   },
   "file_extension": ".py",
   "mimetype": "text/x-python",
   "name": "python",
   "nbconvert_exporter": "python",
   "pygments_lexer": "ipython2",
   "version": "2.7.14"
  }
 },
 "nbformat": 4,
 "nbformat_minor": 2
}
